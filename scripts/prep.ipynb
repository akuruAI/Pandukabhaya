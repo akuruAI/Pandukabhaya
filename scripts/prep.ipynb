{
 "cells": [
  {
   "cell_type": "code",
   "execution_count": 1,
   "metadata": {},
   "outputs": [],
   "source": [
    "import json\n",
    "import re"
   ]
  },
  {
   "cell_type": "code",
   "execution_count": 2,
   "metadata": {},
   "outputs": [
    {
     "name": "stdout",
     "output_type": "stream",
     "text": [
      "fjHd  ->  ව්‍යො  #  ව්‍යො  #  True\n",
      "fIda  ->  ෂෝ  #  ෂෝ  #  True\n",
      "fId  ->  ෂො  #  ෂො  #  True\n",
      "fâ  ->  ඩේ  #  ඬේ  #  False\n",
      "Ï  ->  ඐ  #  ඐ  #  True\n",
      "\\/  ->  රැ  #  රැ=  #  False\n",
      "Ú  ->  ඵී  #  ඵී  #  True\n",
      "È  ->  දි  #  දි  #  True\n",
      "Ý  ->  ඵි  #  ඵී  #  False\n",
      "Ü  ->  ට්  #  ට්  #  True\n",
      "Ù  ->  ඩ්  #  ඕ  #  False\n",
      "Ì  ->  ඏ  #  ඏ  #  True\n",
      "M  ->  ඵ  #  ඵ  #  True\n",
      "c  ->  ජ  #  ජ  #  True\n",
      "r  ->  ර  #  ර  #  True\n",
      "{  ->  ඥ  #  ඥ  #  True\n",
      "|  ->  ඳ  #  ඳ  #  True\n",
      "~  ->  ඬ  #  ඬ  #  True\n",
      "&  ->  )  #  )  #  True\n",
      "Z  ->  ’  #  ’  #  True\n",
      "•  ->  x  #  x  #  True\n",
      "º  ->  X  #  X  #  True\n",
      "¹  ->  V  #  V  #  True\n",
      "Total mappings:  546\n",
      "Unique mappings:  523\n"
     ]
    }
   ],
   "source": [
    "key_set = set()\n",
    "mappings = {}\n",
    "with open(\"ucsc_mapping.txt\", \"r\", encoding='utf-8') as f:\n",
    "    line_count = 0\n",
    "    for line in f.readlines():\n",
    "        line_count += 1\n",
    "        fm, uni = line.strip().split(': ')\n",
    "        fm = fm[1:-1]\n",
    "        uni = uni[1:-1]\n",
    "        if fm in key_set:\n",
    "            print(fm, ' -> ', uni, \" # \", mappings[fm], \" # \", mappings[fm]==uni)\n",
    "        else:\n",
    "            key_set.add(fm)\n",
    "            mappings[fm] = uni\n",
    "\n",
    "print(\"Total mappings: \", line_count)\n",
    "print(\"Unique mappings: \", len(mappings))"
   ]
  },
  {
   "cell_type": "markdown",
   "metadata": {},
   "source": [
    "Except for 4, rest of the duplicates are same mapping.\n",
    "\n",
    "\"fâ\"  ->  \"ඩේ\"  #  \"ඬේ\"  #  False ==>> Key for \"ඬේ\" should be 'få'. Added it.\n",
    "\n",
    "\"\\/\"  ->  \"රැ\"  #  \"රැ=\"  #  False ==>> \"රැ=\" seems wrong\n",
    "\n",
    "\"Ý\"  ->  \"ඵි\"  #  \"ඵී\"  #  False ==>> Key for 'ඵී' is 'Ú'\n",
    "\n",
    "\"Ù\"  ->  \"ඩ්\"  #  \"ඕ\"  #  False ==>> Neither is correct. \"Ù\": \"ඞ්\" and \"â\": \"ඩ්\"\n",
    "\n",
    "Remove rest of the dupes."
   ]
  },
  {
   "cell_type": "code",
   "execution_count": 3,
   "metadata": {},
   "outputs": [
    {
     "name": "stdout",
     "output_type": "stream",
     "text": [
      "Total deduped mappings:  524\n",
      "Unique deduped mappings:  524\n",
      "Additional key:  ['få']\n"
     ]
    }
   ],
   "source": [
    "key_set_1 = set()\n",
    "mappings_1 = {}\n",
    "with open(\"ucsc_deduped.txt\", \"r\", encoding='utf-8') as f:\n",
    "    line_count = 0\n",
    "    for line in f.readlines():\n",
    "        line_count += 1\n",
    "        fm, uni = line.strip().split(': ')\n",
    "        fm = fm[1:-1]\n",
    "        uni = uni[1:-1]\n",
    "        if fm in key_set_1:\n",
    "            print(fm, ' -> ', uni, \" # \", mappings_1[fm], \" # \", mappings_1[fm]==uni)\n",
    "        else:\n",
    "            key_set_1.add(fm)\n",
    "            mappings_1[fm] = uni\n",
    "\n",
    "print(\"Total deduped mappings: \", line_count)\n",
    "print(\"Unique deduped mappings: \", len(mappings_1))\n",
    "print(\"Additional key: \", list(key_set_1-key_set))"
   ]
  },
  {
   "cell_type": "code",
   "execution_count": 5,
   "metadata": {},
   "outputs": [
    {
     "name": "stdout",
     "output_type": "stream",
     "text": [
      "'ƒ': 'ඳැ='\n",
      "'ü': 'ඤූ='\n",
      "'û': 'ඤු='\n",
      "'´': ' ඕ'\n",
      "'P': 'ඡ='\n",
      "'“': ' ර්‍ණ'\n",
      "' ’': 'ී'\n",
      "' ‘': 'ි'\n",
      "'œ': ' ර්‍්‍ය'\n"
     ]
    }
   ],
   "source": [
    "for key, uni in mappings_1.items():\n",
    "    if re.search(r\" \\w+\", uni) or re.search(r\" .+\", key) or re.search(r\".+=\", uni):\n",
    "        print(f\"'{key}': '{uni}'\")"
   ]
  },
  {
   "cell_type": "markdown",
   "metadata": {},
   "source": [
    "Not sure about ' ’': 'ී' and ' ‘': 'ි'. Leaving them as is for now. \n",
    "\n",
    "Fixing the rest"
   ]
  }
 ],
 "metadata": {
  "kernelspec": {
   "display_name": "Python 3",
   "language": "python",
   "name": "python3"
  },
  "language_info": {
   "codemirror_mode": {
    "name": "ipython",
    "version": 3
   },
   "file_extension": ".py",
   "mimetype": "text/x-python",
   "name": "python",
   "nbconvert_exporter": "python",
   "pygments_lexer": "ipython3",
   "version": "3.12.7"
  }
 },
 "nbformat": 4,
 "nbformat_minor": 2
}
