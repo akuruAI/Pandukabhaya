{
 "cells": [
  {
   "cell_type": "markdown",
   "metadata": {},
   "source": [
    "The UCSC mapping seems to be missing some combinations of characters. It looks like the mapping has been trimmed to cater ont to widely used combinations. eg. \"බෛ\" is missing in the set for \"ෛ\". At the time of the development of the tool, computation capacity may have been a factor in trimming the mappings.\n",
    "\n",
    "However, focus of this tool is to cast a reasonably wide net to capture all characters. Therefore we are generating the mappings to capture all available combinations.\n",
    "\n",
    "Generation will adhere to the following rules:\n",
    "* New mappings should include all the mappings in UCSC mappings.\n",
    "* No new mapping should conflict with old mappings"
   ]
  },
  {
   "cell_type": "code",
   "execution_count": 1,
   "metadata": {},
   "outputs": [],
   "source": [
    "consonants = {\n",
    "    \"l\": \"ක\",\n",
    "    \"L\": \"ඛ\",\n",
    "    \".\": \"ග\",\n",
    "    \">\": \"ඝ\",\n",
    "    \"X\": \"ඞ\",\n",
    "    \"Õ\": \"ඟ\",\n",
    "    \"p\": \"ච\",\n",
    "    \"P\": \"ඡ\",\n",
    "    \"c\": \"ජ\",\n",
    "    \"CO\": \"ඣ\",\n",
    "    \"®\": \"ඣ\",\n",
    "    \"[\": \"ඤ\",\n",
    "    \"{\": \"ඥ\",\n",
    "    \"g\": \"ට\",\n",
    "    \"G\": \"ඨ\",\n",
    "    \"v\": \"ඩ\",\n",
    "    \"V\": \"ඪ\",\n",
    "    \"K\": \"ණ\",\n",
    "    \"~\": \"ඬ\",\n",
    "    \";\": \"ත\",\n",
    "    \":\": \"ථ\",\n",
    "    \"o\": \"ද\",\n",
    "    \"O\": \"ධ\",\n",
    "    \"k\": \"න\",\n",
    "    \"|\": \"ඳ\",\n",
    "    \"m\": \"ප\",\n",
    "    \"M\": \"ඵ\",\n",
    "    \"n\": \"බ\",\n",
    "    \"N\": \"භ\",\n",
    "    \"u\": \"ම\",\n",
    "    \"U\": \"ඹ\",\n",
    "    \"h\": \"ය\",\n",
    "    \"r\": \"ර\",\n",
    "    \",\": \"ල\",\n",
    "    \"j\": \"ව\",\n",
    "    \"Y\": \"ශ\",\n",
    "    \"I\": \"ෂ\",\n",
    "    \"i\": \"ස\",\n",
    "    \"y\": \"හ\",\n",
    "    \"<\": \"ළ\",\n",
    "    \"¿\": \"ළු\",\n",
    "    \"*\": \"ෆ\",\n",
    "}\n",
    "additional_consonants = {\n",
    "    \"CI\": \"ක්‍ෂ\",\n",
    "    \"Cj\": \"ක්‍ව\",\n",
    "    \"Ë\": \"ක්‍ෂ\",\n",
    "    \"†\": \"ත්‍ථ\",\n",
    "    \"…\": \"ත්‍ව\",\n",
    "    \"‡\": \"න්‍ද\",\n",
    "    \"JO\": \"න්‍ධ\",\n",
    "}\n",
    "extra_mappings = {\"`.\": \"ඟ\", \"`P\": \"ඦ\", \"`v\": \"ඬ\", \"`o\": \"ඳ\"}\n",
    "other_letters = {\"„\": \"ද්‍ව\", \"`j\": \"ද්‍ව\", \"Š\": \"ද්‍ධ\", \"`O\": \"ද්‍ධ\", \"`G\": \"ට්‍ඨ\"}\n",
    "vowels = {\n",
    "    \"w\": \"අ\",\n",
    "    \"wd\": \"ආ\",\n",
    "    \"we\": \"ඇ\",\n",
    "    \"wE\": \"ඈ\",\n",
    "    \"b\": \"ඉ\",\n",
    "    \"B\": \"ඊ\",\n",
    "    \"W\": \"උ\",\n",
    "    \"W!\": \"ඌ\",\n",
    "    \"R\": \"ඍ\",\n",
    "    \"RD\": \"ඎ\",\n",
    "    \"Ì\": \"ඏ\",\n",
    "    \"Ï\": \"ඐ\",\n",
    "    \"t\": \"එ\",\n",
    "    \"ta\": \"ඒ\",\n",
    "    \"ft\": \"ඓ\",\n",
    "    \"T\": \"ඔ\",\n",
    "    \"´\": \"ඕ\",\n",
    "    \"T!\": \"ඖ\",\n",
    "}"
   ]
  },
  {
   "cell_type": "code",
   "execution_count": 2,
   "metadata": {},
   "outputs": [],
   "source": [
    "def concat(fm_prefix, fm_suffix, unicode_prefix, unicode_suffix, in_map, out_map):\n",
    "    for consonant in in_map.items():\n",
    "        out_map[fm_prefix + consonant[0] + fm_suffix] = (\n",
    "            unicode_prefix + consonant[1] + unicode_suffix\n",
    "        )\n",
    "\n",
    "\n",
    "def generator(fm_prefix, fm_suffix, unicode_prefix, unicode_suffix, additional=False):\n",
    "\n",
    "    out = {}\n",
    "\n",
    "    concat(fm_prefix, fm_suffix, unicode_prefix, unicode_suffix, consonants, out)\n",
    "    concat(fm_prefix, fm_suffix, unicode_prefix, unicode_suffix, extra_mappings, out)\n",
    "    if additional:\n",
    "        concat(\n",
    "            fm_prefix,\n",
    "            fm_suffix,\n",
    "            unicode_prefix,\n",
    "            unicode_suffix,\n",
    "            additional_consonants,\n",
    "            out,\n",
    "        )\n",
    "    return out"
   ]
  },
  {
   "cell_type": "code",
   "execution_count": 3,
   "metadata": {},
   "outputs": [],
   "source": [
    "def printer(char_set):\n",
    "    print(\"{\", end=\"\")\n",
    "    for item in char_set.items():\n",
    "        print(f\"'{item[0]}': '{item[1]}'\", end=\", \")\n",
    "    print(\"}\", end=\"\")"
   ]
  },
  {
   "cell_type": "markdown",
   "metadata": {},
   "source": [
    "Mapping for \"ෛ\" seems to be missing several consonants. Due to the nature of unicode spec, modifiers needs to come after the letter. So this won't be correctly rendered for any case in the form `ff<letter>` if there is no mapping to replace it with the correct unicode form. Therefore generating the combinations and adding them."
   ]
  },
  {
   "cell_type": "code",
   "execution_count": 4,
   "metadata": {},
   "outputs": [
    {
     "name": "stdout",
     "output_type": "stream",
     "text": [
      "{'ffl': 'කෛ', 'ffL': 'ඛෛ', 'ff.': 'ගෛ', 'ff>': 'ඝෛ', 'ffX': 'ඞෛ', 'ffÕ': 'ඟෛ', 'ffp': 'චෛ', 'ffP': 'ඡෛ', 'ffc': 'ජෛ', 'ffCO': 'ඣෛ', 'ff®': 'ඣෛ', 'ff[': 'ඤෛ', 'ff{': 'ඥෛ', 'ffg': 'ටෛ', 'ffG': 'ඨෛ', 'ffv': 'ඩෛ', 'ffV': 'ඪෛ', 'ffK': 'ණෛ', 'ff~': 'ඬෛ', 'ff;': 'තෛ', 'ff:': 'ථෛ', 'ffo': 'දෛ', 'ffO': 'ධෛ', 'ffk': 'නෛ', 'ff|': 'ඳෛ', 'ffm': 'පෛ', 'ffM': 'ඵෛ', 'ffn': 'බෛ', 'ffN': 'භෛ', 'ffu': 'මෛ', 'ffU': 'ඹෛ', 'ffh': 'යෛ', 'ffr': 'රෛ', 'ff,': 'ලෛ', 'ffj': 'වෛ', 'ffY': 'ශෛ', 'ffI': 'ෂෛ', 'ffi': 'සෛ', 'ffy': 'හෛ', 'ff<': 'ළෛ', 'ff¿': 'ළුෛ', 'ff*': 'ෆෛ', 'ff`.': 'ඟෛ', 'ff`P': 'ඦෛ', 'ff`v': 'ඬෛ', 'ff`o': 'ඳෛ'}\n"
     ]
    }
   ],
   "source": [
    "char_set_list = []\n",
    "set_1 = generator(\"ff\", \"\", \"\", \"ෛ\")\n",
    "\n",
    "print(set_1)"
   ]
  },
  {
   "cell_type": "markdown",
   "metadata": {},
   "source": [
    "Need to remove 'ළුෛ' and add special cases \"එෛ\" and \"ත්‍රෛ\""
   ]
  },
  {
   "cell_type": "code",
   "execution_count": 5,
   "metadata": {},
   "outputs": [],
   "source": [
    "set_1[\"fft\"] = \"එෛ\"\n",
    "set_1[\"ff;%\"] = \"ත්‍රෛ\"\n",
    "del set_1[\"ff¿\"]\n",
    "char_set_list.append(set_1)"
   ]
  },
  {
   "cell_type": "markdown",
   "metadata": {},
   "source": [
    "Even though \"ප්‍රෞ\" is the only commonly used combination, no harm in generating for other consonants."
   ]
  },
  {
   "cell_type": "code",
   "execution_count": 6,
   "metadata": {},
   "outputs": [
    {
     "name": "stdout",
     "output_type": "stream",
     "text": [
      "{'fl%!': 'ක්‍රෞ', 'fL%!': 'ඛ්‍රෞ', 'f.%!': 'ග්‍රෞ', 'f>%!': 'ඝ්‍රෞ', 'fX%!': 'ඞ්‍රෞ', 'fÕ%!': 'ඟ්‍රෞ', 'fp%!': 'ච්‍රෞ', 'fP%!': 'ඡ්‍රෞ', 'fc%!': 'ජ්‍රෞ', 'fCO%!': 'ඣ්‍රෞ', 'f®%!': 'ඣ්‍රෞ', 'f[%!': 'ඤ්‍රෞ', 'f{%!': 'ඥ්‍රෞ', 'fg%!': 'ට්‍රෞ', 'fG%!': 'ඨ්‍රෞ', 'fv%!': 'ඩ්‍රෞ', 'fV%!': 'ඪ්‍රෞ', 'fK%!': 'ණ්‍රෞ', 'f~%!': 'ඬ්‍රෞ', 'f;%!': 'ත්‍රෞ', 'f:%!': 'ථ්‍රෞ', 'fo%!': 'ද්‍රෞ', 'fO%!': 'ධ්‍රෞ', 'fk%!': 'න්‍රෞ', 'f|%!': 'ඳ්‍රෞ', 'fm%!': 'ප්‍රෞ', 'fM%!': 'ඵ්‍රෞ', 'fn%!': 'බ්‍රෞ', 'fN%!': 'භ්‍රෞ', 'fu%!': 'ම්‍රෞ', 'fU%!': 'ඹ්‍රෞ', 'fh%!': 'ය්‍රෞ', 'fr%!': 'ර්‍රෞ', 'f,%!': 'ල්‍රෞ', 'fj%!': 'ව්‍රෞ', 'fY%!': 'ශ්‍රෞ', 'fI%!': 'ෂ්‍රෞ', 'fi%!': 'ස්‍රෞ', 'fy%!': 'හ්‍රෞ', 'f<%!': 'ළ්‍රෞ', 'f¿%!': 'ළු්‍රෞ', 'f*%!': 'ෆ්‍රෞ', 'f`.%!': 'ඟ්‍රෞ', 'f`P%!': 'ඦ්‍රෞ', 'f`v%!': 'ඬ්‍රෞ', 'f`o%!': 'ඳ්‍රෞ', }"
     ]
    }
   ],
   "source": [
    "set_2 = generator(\"f\", \"%!\", \"\", \"්‍රෞ\")\n",
    "printer(set_2)"
   ]
  },
  {
   "cell_type": "markdown",
   "metadata": {},
   "source": [
    "Need to remove obviosly incorrect ones: 2 ඣ්‍රෞ, ඤ්‍රෞ, ඥ්‍රෞ, ණ්‍රෞ, ර්‍රෞ, ල්‍රෞ, ළු්‍රෞ"
   ]
  },
  {
   "cell_type": "code",
   "execution_count": 7,
   "metadata": {},
   "outputs": [],
   "source": [
    "del set_2[\"fCO%!\"]\n",
    "del set_2[\"f®%!\"]\n",
    "del set_2[\"f[%!\"]\n",
    "del set_2[\"f{%!\"]\n",
    "del set_2[\"fK%!\"]\n",
    "del set_2[\"fr%!\"]\n",
    "del set_2[\"f,%!\"]\n",
    "del set_2[\"f¿%!\"]\n",
    "char_set_list.append(set_2)"
   ]
  },
  {
   "cell_type": "markdown",
   "metadata": {},
   "source": [
    "Set 3 is '්‍යෝ' eg. 'ෂ්‍යෝ'."
   ]
  },
  {
   "cell_type": "code",
   "execution_count": 8,
   "metadata": {},
   "outputs": [
    {
     "name": "stdout",
     "output_type": "stream",
     "text": [
      "{'flHda': 'ක්‍යෝ', 'fLHda': 'ඛ්‍යෝ', 'f.Hda': 'ග්‍යෝ', 'f>Hda': 'ඝ්‍යෝ', 'fXHda': 'ඞ්‍යෝ', 'fÕHda': 'ඟ්‍යෝ', 'fpHda': 'ච්‍යෝ', 'fPHda': 'ඡ්‍යෝ', 'fcHda': 'ජ්‍යෝ', 'fCOHda': 'ඣ්‍යෝ', 'f®Hda': 'ඣ්‍යෝ', 'f[Hda': 'ඤ්‍යෝ', 'f{Hda': 'ඥ්‍යෝ', 'fgHda': 'ට්‍යෝ', 'fGHda': 'ඨ්‍යෝ', 'fvHda': 'ඩ්‍යෝ', 'fVHda': 'ඪ්‍යෝ', 'fKHda': 'ණ්‍යෝ', 'f~Hda': 'ඬ්‍යෝ', 'f;Hda': 'ත්‍යෝ', 'f:Hda': 'ථ්‍යෝ', 'foHda': 'ද්‍යෝ', 'fOHda': 'ධ්‍යෝ', 'fkHda': 'න්‍යෝ', 'f|Hda': 'ඳ්‍යෝ', 'fmHda': 'ප්‍යෝ', 'fMHda': 'ඵ්‍යෝ', 'fnHda': 'බ්‍යෝ', 'fNHda': 'භ්‍යෝ', 'fuHda': 'ම්‍යෝ', 'fUHda': 'ඹ්‍යෝ', 'fhHda': 'ය්‍යෝ', 'frHda': 'ර්‍යෝ', 'f,Hda': 'ල්‍යෝ', 'fjHda': 'ව්‍යෝ', 'fYHda': 'ශ්‍යෝ', 'fIHda': 'ෂ්‍යෝ', 'fiHda': 'ස්‍යෝ', 'fyHda': 'හ්‍යෝ', 'f<Hda': 'ළ්‍යෝ', 'f¿Hda': 'ළු්‍යෝ', 'f*Hda': 'ෆ්‍යෝ', 'f`.Hda': 'ඟ්‍යෝ', 'f`PHda': 'ඦ්‍යෝ', 'f`vHda': 'ඬ්‍යෝ', 'f`oHda': 'ඳ්‍යෝ', }"
     ]
    }
   ],
   "source": [
    "set_3 = generator(\"f\", \"Hda\", \"\", \"්‍යෝ\")\n",
    "printer(set_3)"
   ]
  },
  {
   "cell_type": "markdown",
   "metadata": {},
   "source": [
    "Need to remove ළු්‍යෝ"
   ]
  },
  {
   "cell_type": "code",
   "execution_count": 9,
   "metadata": {},
   "outputs": [],
   "source": [
    "del set_3[\"f¿Hda\"]\n",
    "char_set_list.append(set_3)"
   ]
  },
  {
   "cell_type": "markdown",
   "metadata": {},
   "source": [
    "Set 4 is '්‍යො' eg. 'ෂ්‍යො'."
   ]
  },
  {
   "cell_type": "code",
   "execution_count": 10,
   "metadata": {},
   "outputs": [
    {
     "name": "stdout",
     "output_type": "stream",
     "text": [
      "{'flHd': 'ක්‍යො', 'fLHd': 'ඛ්‍යො', 'f.Hd': 'ග්‍යො', 'f>Hd': 'ඝ්‍යො', 'fXHd': 'ඞ්‍යො', 'fÕHd': 'ඟ්‍යො', 'fpHd': 'ච්‍යො', 'fPHd': 'ඡ්‍යො', 'fcHd': 'ජ්‍යො', 'fCOHd': 'ඣ්‍යො', 'f®Hd': 'ඣ්‍යො', 'f[Hd': 'ඤ්‍යො', 'f{Hd': 'ඥ්‍යො', 'fgHd': 'ට්‍යො', 'fGHd': 'ඨ්‍යො', 'fvHd': 'ඩ්‍යො', 'fVHd': 'ඪ්‍යො', 'fKHd': 'ණ්‍යො', 'f~Hd': 'ඬ්‍යො', 'f;Hd': 'ත්‍යො', 'f:Hd': 'ථ්‍යො', 'foHd': 'ද්‍යො', 'fOHd': 'ධ්‍යො', 'fkHd': 'න්‍යො', 'f|Hd': 'ඳ්‍යො', 'fmHd': 'ප්‍යො', 'fMHd': 'ඵ්‍යො', 'fnHd': 'බ්‍යො', 'fNHd': 'භ්‍යො', 'fuHd': 'ම්‍යො', 'fUHd': 'ඹ්‍යො', 'fhHd': 'ය්‍යො', 'frHd': 'ර්‍යො', 'f,Hd': 'ල්‍යො', 'fjHd': 'ව්‍යො', 'fYHd': 'ශ්‍යො', 'fIHd': 'ෂ්‍යො', 'fiHd': 'ස්‍යො', 'fyHd': 'හ්‍යො', 'f<Hd': 'ළ්‍යො', 'f¿Hd': 'ළු්‍යො', 'f*Hd': 'ෆ්‍යො', 'f`.Hd': 'ඟ්‍යො', 'f`PHd': 'ඦ්‍යො', 'f`vHd': 'ඬ්‍යො', 'f`oHd': 'ඳ්‍යො', }"
     ]
    }
   ],
   "source": [
    "set_4 = generator(\"f\", \"Hd\", \"\", \"්‍යො\")\n",
    "printer(set_4)"
   ]
  },
  {
   "cell_type": "markdown",
   "metadata": {},
   "source": [
    "Need to remove ළු්‍යො."
   ]
  },
  {
   "cell_type": "code",
   "execution_count": 11,
   "metadata": {},
   "outputs": [],
   "source": [
    "del set_4[\"f¿Hd\"]\n",
    "char_set_list.append(set_4)"
   ]
  },
  {
   "cell_type": "markdown",
   "metadata": {},
   "source": [
    "Set 5 is '්‍යෙ' eg. 'ෂ්‍යෙ'."
   ]
  },
  {
   "cell_type": "code",
   "execution_count": 12,
   "metadata": {},
   "outputs": [
    {
     "name": "stdout",
     "output_type": "stream",
     "text": [
      "{'flH': 'ක්‍යෙ', 'fLH': 'ඛ්‍යෙ', 'f.H': 'ග්‍යෙ', 'f>H': 'ඝ්‍යෙ', 'fXH': 'ඞ්‍යෙ', 'fÕH': 'ඟ්‍යෙ', 'fpH': 'ච්‍යෙ', 'fPH': 'ඡ්‍යෙ', 'fcH': 'ජ්‍යෙ', 'fCOH': 'ඣ්‍යෙ', 'f®H': 'ඣ්‍යෙ', 'f[H': 'ඤ්‍යෙ', 'f{H': 'ඥ්‍යෙ', 'fgH': 'ට්‍යෙ', 'fGH': 'ඨ්‍යෙ', 'fvH': 'ඩ්‍යෙ', 'fVH': 'ඪ්‍යෙ', 'fKH': 'ණ්‍යෙ', 'f~H': 'ඬ්‍යෙ', 'f;H': 'ත්‍යෙ', 'f:H': 'ථ්‍යෙ', 'foH': 'ද්‍යෙ', 'fOH': 'ධ්‍යෙ', 'fkH': 'න්‍යෙ', 'f|H': 'ඳ්‍යෙ', 'fmH': 'ප්‍යෙ', 'fMH': 'ඵ්‍යෙ', 'fnH': 'බ්‍යෙ', 'fNH': 'භ්‍යෙ', 'fuH': 'ම්‍යෙ', 'fUH': 'ඹ්‍යෙ', 'fhH': 'ය්‍යෙ', 'frH': 'ර්‍යෙ', 'f,H': 'ල්‍යෙ', 'fjH': 'ව්‍යෙ', 'fYH': 'ශ්‍යෙ', 'fIH': 'ෂ්‍යෙ', 'fiH': 'ස්‍යෙ', 'fyH': 'හ්‍යෙ', 'f<H': 'ළ්‍යෙ', 'f¿H': 'ළු්‍යෙ', 'f*H': 'ෆ්‍යෙ', 'f`.H': 'ඟ්‍යෙ', 'f`PH': 'ඦ්‍යෙ', 'f`vH': 'ඬ්‍යෙ', 'f`oH': 'ඳ්‍යෙ', }"
     ]
    }
   ],
   "source": [
    "set_5 = generator(\"f\", \"H\", \"\", \"්‍යෙ\")\n",
    "printer(set_5)"
   ]
  },
  {
   "cell_type": "markdown",
   "metadata": {},
   "source": [
    "Need to remove ළු්‍යෙ. And adding special case \"hH_\": \"ර්‍ය්‍ය\""
   ]
  },
  {
   "cell_type": "code",
   "execution_count": 13,
   "metadata": {},
   "outputs": [],
   "source": [
    "set_5[\"hH_\"] = \"ර්‍ය්‍ය\"\n",
    "del set_5[\"f¿H\"]\n",
    "char_set_list.append(set_5)"
   ]
  },
  {
   "cell_type": "markdown",
   "metadata": {},
   "source": [
    "Set 6 is '්‍රෝ' eg. 'ෂ්‍රෝ'."
   ]
  },
  {
   "cell_type": "code",
   "execution_count": 14,
   "metadata": {},
   "outputs": [
    {
     "name": "stdout",
     "output_type": "stream",
     "text": [
      "{'fl%da': 'ක්‍රෝ', 'fL%da': 'ඛ්‍රෝ', 'f.%da': 'ග්‍රෝ', 'f>%da': 'ඝ්‍රෝ', 'fX%da': 'ඞ්‍රෝ', 'fÕ%da': 'ඟ්‍රෝ', 'fp%da': 'ච්‍රෝ', 'fP%da': 'ඡ්‍රෝ', 'fc%da': 'ජ්‍රෝ', 'fCO%da': 'ඣ්‍රෝ', 'f®%da': 'ඣ්‍රෝ', 'f[%da': 'ඤ්‍රෝ', 'f{%da': 'ඥ්‍රෝ', 'fg%da': 'ට්‍රෝ', 'fG%da': 'ඨ්‍රෝ', 'fv%da': 'ඩ්‍රෝ', 'fV%da': 'ඪ්‍රෝ', 'fK%da': 'ණ්‍රෝ', 'f~%da': 'ඬ්‍රෝ', 'f;%da': 'ත්‍රෝ', 'f:%da': 'ථ්‍රෝ', 'fo%da': 'ද්‍රෝ', 'fO%da': 'ධ්‍රෝ', 'fk%da': 'න්‍රෝ', 'f|%da': 'ඳ්‍රෝ', 'fm%da': 'ප්‍රෝ', 'fM%da': 'ඵ්‍රෝ', 'fn%da': 'බ්‍රෝ', 'fN%da': 'භ්‍රෝ', 'fu%da': 'ම්‍රෝ', 'fU%da': 'ඹ්‍රෝ', 'fh%da': 'ය්‍රෝ', 'fr%da': 'ර්‍රෝ', 'f,%da': 'ල්‍රෝ', 'fj%da': 'ව්‍රෝ', 'fY%da': 'ශ්‍රෝ', 'fI%da': 'ෂ්‍රෝ', 'fi%da': 'ස්‍රෝ', 'fy%da': 'හ්‍රෝ', 'f<%da': 'ළ්‍රෝ', 'f¿%da': 'ළු්‍රෝ', 'f*%da': 'ෆ්‍රෝ', 'f`.%da': 'ඟ්‍රෝ', 'f`P%da': 'ඦ්‍රෝ', 'f`v%da': 'ඬ්‍රෝ', 'f`o%da': 'ඳ්‍රෝ', }"
     ]
    }
   ],
   "source": [
    "set_6 = generator(\"f\", \"%da\", \"\", \"්‍රෝ\")\n",
    "printer(set_6)"
   ]
  },
  {
   "cell_type": "markdown",
   "metadata": {},
   "source": [
    "Need to remove 'ණ්‍රෝ', 'න්‍රෝ', 'ය්‍රෝ', 'ර්‍රෝ', 'ල්‍රෝ', 'ළු්‍රෝ' and add \"føda\": \"ද්‍රෝ\""
   ]
  },
  {
   "cell_type": "code",
   "execution_count": 15,
   "metadata": {},
   "outputs": [],
   "source": [
    "set_6[\"føda\"] = \"ද්‍රෝ\"\n",
    "del set_6[\"fK%da\"]\n",
    "del set_6[\"fk%da\"]\n",
    "del set_6[\"fr%da\"]\n",
    "del set_6[\"f,%da\"]\n",
    "del set_6[\"f¿%da\"]\n",
    "char_set_list.append(set_6)"
   ]
  },
  {
   "cell_type": "markdown",
   "metadata": {},
   "source": [
    "Set 7 is '්‍රො' eg. 'ෂ්‍රො'."
   ]
  },
  {
   "cell_type": "code",
   "execution_count": 16,
   "metadata": {},
   "outputs": [
    {
     "name": "stdout",
     "output_type": "stream",
     "text": [
      "{'fl%d': 'ක්‍රො', 'fL%d': 'ඛ්‍රො', 'f.%d': 'ග්‍රො', 'f>%d': 'ඝ්‍රො', 'fX%d': 'ඞ්‍රො', 'fÕ%d': 'ඟ්‍රො', 'fp%d': 'ච්‍රො', 'fP%d': 'ඡ්‍රො', 'fc%d': 'ජ්‍රො', 'fCO%d': 'ඣ්‍රො', 'f®%d': 'ඣ්‍රො', 'f[%d': 'ඤ්‍රො', 'f{%d': 'ඥ්‍රො', 'fg%d': 'ට්‍රො', 'fG%d': 'ඨ්‍රො', 'fv%d': 'ඩ්‍රො', 'fV%d': 'ඪ්‍රො', 'fK%d': 'ණ්‍රො', 'f~%d': 'ඬ්‍රො', 'f;%d': 'ත්‍රො', 'f:%d': 'ථ්‍රො', 'fo%d': 'ද්‍රො', 'fO%d': 'ධ්‍රො', 'fk%d': 'න්‍රො', 'f|%d': 'ඳ්‍රො', 'fm%d': 'ප්‍රො', 'fM%d': 'ඵ්‍රො', 'fn%d': 'බ්‍රො', 'fN%d': 'භ්‍රො', 'fu%d': 'ම්‍රො', 'fU%d': 'ඹ්‍රො', 'fh%d': 'ය්‍රො', 'fr%d': 'ර්‍රො', 'f,%d': 'ල්‍රො', 'fj%d': 'ව්‍රො', 'fY%d': 'ශ්‍රො', 'fI%d': 'ෂ්‍රො', 'fi%d': 'ස්‍රො', 'fy%d': 'හ්‍රො', 'f<%d': 'ළ්‍රො', 'f¿%d': 'ළු්‍රො', 'f*%d': 'ෆ්‍රො', 'f`.%d': 'ඟ්‍රො', 'f`P%d': 'ඦ්‍රො', 'f`v%d': 'ඬ්‍රො', 'f`o%d': 'ඳ්‍රො', }"
     ]
    }
   ],
   "source": [
    "set_7 = generator(\"f\", \"%d\", \"\", \"්‍රො\")\n",
    "printer(set_7)"
   ]
  },
  {
   "cell_type": "markdown",
   "metadata": {},
   "source": [
    "Need to remove 'ණ්‍රො', 'න්‍රො', 'ය්‍රො', 'ර්‍රො', 'ල්‍රො', 'ළු්‍රො' and add \"fød\": \"ද්‍රො\""
   ]
  },
  {
   "cell_type": "code",
   "execution_count": 17,
   "metadata": {},
   "outputs": [],
   "source": [
    "set_7[\"fød\"] = \"ද්‍රො\"\n",
    "del set_7[\"fK%d\"]\n",
    "del set_7[\"fk%d\"]\n",
    "del set_7[\"fh%d\"]\n",
    "del set_7[\"fr%d\"]\n",
    "del set_7[\"f,%d\"]\n",
    "del set_7[\"f¿%d\"]\n",
    "char_set_list.append(set_7)"
   ]
  },
  {
   "cell_type": "markdown",
   "metadata": {},
   "source": [
    "Set 8 is '්‍රේ' eg. 'ෂ්‍රේ'. These mapping are paired with normalization rules derieved in prep."
   ]
  },
  {
   "cell_type": "code",
   "execution_count": 18,
   "metadata": {},
   "outputs": [
    {
     "name": "stdout",
     "output_type": "stream",
     "text": [
      "{'fla%': 'ක්‍රේ', 'fLa%': 'ඛ්‍රේ', 'f.a%': 'ග්‍රේ', 'f>a%': 'ඝ්‍රේ', 'fXa%': 'ඞ්‍රේ', 'fÕa%': 'ඟ්‍රේ', 'fpa%': 'ච්‍රේ', 'fPa%': 'ඡ්‍රේ', 'fca%': 'ජ්‍රේ', 'fCOa%': 'ඣ්‍රේ', 'f®a%': 'ඣ්‍රේ', 'f[a%': 'ඤ්‍රේ', 'f{a%': 'ඥ්‍රේ', 'fga%': 'ට්‍රේ', 'fGa%': 'ඨ්‍රේ', 'fva%': 'ඩ්‍රේ', 'fVa%': 'ඪ්‍රේ', 'fKa%': 'ණ්‍රේ', 'f~a%': 'ඬ්‍රේ', 'f;a%': 'ත්‍රේ', 'f:a%': 'ථ්‍රේ', 'foa%': 'ද්‍රේ', 'fOa%': 'ධ්‍රේ', 'fka%': 'න්‍රේ', 'f|a%': 'ඳ්‍රේ', 'fma%': 'ප්‍රේ', 'fMa%': 'ඵ්‍රේ', 'fna%': 'බ්‍රේ', 'fNa%': 'භ්‍රේ', 'fua%': 'ම්‍රේ', 'fUa%': 'ඹ්‍රේ', 'fha%': 'ය්‍රේ', 'fra%': 'ර්‍රේ', 'f,a%': 'ල්‍රේ', 'fja%': 'ව්‍රේ', 'fYa%': 'ශ්‍රේ', 'fIa%': 'ෂ්‍රේ', 'fia%': 'ස්‍රේ', 'fya%': 'හ්‍රේ', 'f<a%': 'ළ්‍රේ', 'f¿a%': 'ළු්‍රේ', 'f*a%': 'ෆ්‍රේ', 'f`.a%': 'ඟ්‍රේ', 'f`Pa%': 'ඦ්‍රේ', 'f`va%': 'ඬ්‍රේ', 'f`oa%': 'ඳ්‍රේ', }"
     ]
    }
   ],
   "source": [
    "set_8 = generator(\"f\", \"a%\", \"\", \"්‍රේ\")\n",
    "printer(set_8)"
   ]
  },
  {
   "cell_type": "markdown",
   "metadata": {},
   "source": [
    "Need to remove 'ණ්‍රේ', 'න්‍රේ', 'ය්‍රේ', 'ර්‍රේ', 'ල්‍රේ','ළු්‍රේ' and add \"føa\": \"ද්‍රේ\""
   ]
  },
  {
   "cell_type": "code",
   "execution_count": 19,
   "metadata": {},
   "outputs": [],
   "source": [
    "set_8[\"føa\"] = \"ද්‍රේ\"\n",
    "del set_8[\"fKa%\"]\n",
    "del set_8[\"fka%\"]\n",
    "del set_8[\"fha%\"]\n",
    "del set_8[\"fra%\"]\n",
    "del set_8[\"f,a%\"]\n",
    "del set_8[\"f¿a%\"]\n",
    "char_set_list.append(set_8)"
   ]
  },
  {
   "cell_type": "markdown",
   "metadata": {},
   "source": [
    "Set 9 is 'ෞ' eg. 'ෂෞ'. "
   ]
  },
  {
   "cell_type": "code",
   "execution_count": 20,
   "metadata": {},
   "outputs": [
    {
     "name": "stdout",
     "output_type": "stream",
     "text": [
      "{'fl!': 'කෞ', 'fL!': 'ඛෞ', 'f.!': 'ගෞ', 'f>!': 'ඝෞ', 'fX!': 'ඞෞ', 'fÕ!': 'ඟෞ', 'fp!': 'චෞ', 'fP!': 'ඡෞ', 'fc!': 'ජෞ', 'fCO!': 'ඣෞ', 'f®!': 'ඣෞ', 'f[!': 'ඤෞ', 'f{!': 'ඥෞ', 'fg!': 'ටෞ', 'fG!': 'ඨෞ', 'fv!': 'ඩෞ', 'fV!': 'ඪෞ', 'fK!': 'ණෞ', 'f~!': 'ඬෞ', 'f;!': 'තෞ', 'f:!': 'ථෞ', 'fo!': 'දෞ', 'fO!': 'ධෞ', 'fk!': 'නෞ', 'f|!': 'ඳෞ', 'fm!': 'පෞ', 'fM!': 'ඵෞ', 'fn!': 'බෞ', 'fN!': 'භෞ', 'fu!': 'මෞ', 'fU!': 'ඹෞ', 'fh!': 'යෞ', 'fr!': 'රෞ', 'f,!': 'ලෞ', 'fj!': 'වෞ', 'fY!': 'ශෞ', 'fI!': 'ෂෞ', 'fi!': 'සෞ', 'fy!': 'හෞ', 'f<!': 'ළෞ', 'f¿!': 'ළුෞ', 'f*!': 'ෆෞ', 'f`.!': 'ඟෞ', 'f`P!': 'ඦෞ', 'f`v!': 'ඬෞ', 'f`o!': 'ඳෞ', }"
     ]
    }
   ],
   "source": [
    "set_9 = generator(\"f\", \"!\", \"\", \"ෞ\")\n",
    "printer(set_9)"
   ]
  },
  {
   "cell_type": "markdown",
   "metadata": {},
   "source": [
    "Need to remove 'ළුෞ'."
   ]
  },
  {
   "cell_type": "code",
   "execution_count": 21,
   "metadata": {},
   "outputs": [],
   "source": [
    "del set_9[\"f¿!\"]\n",
    "char_set_list.append(set_9)"
   ]
  },
  {
   "cell_type": "markdown",
   "metadata": {},
   "source": [
    "Set 10 is 'ෝ' eg. 'ෂෝ'."
   ]
  },
  {
   "cell_type": "code",
   "execution_count": 22,
   "metadata": {},
   "outputs": [
    {
     "name": "stdout",
     "output_type": "stream",
     "text": [
      "{'flda': 'කෝ', 'fLda': 'ඛෝ', 'f.da': 'ගෝ', 'f>da': 'ඝෝ', 'fXda': 'ඞෝ', 'fÕda': 'ඟෝ', 'fpda': 'චෝ', 'fPda': 'ඡෝ', 'fcda': 'ජෝ', 'fCOda': 'ඣෝ', 'f®da': 'ඣෝ', 'f[da': 'ඤෝ', 'f{da': 'ඥෝ', 'fgda': 'ටෝ', 'fGda': 'ඨෝ', 'fvda': 'ඩෝ', 'fVda': 'ඪෝ', 'fKda': 'ණෝ', 'f~da': 'ඬෝ', 'f;da': 'තෝ', 'f:da': 'ථෝ', 'foda': 'දෝ', 'fOda': 'ධෝ', 'fkda': 'නෝ', 'f|da': 'ඳෝ', 'fmda': 'පෝ', 'fMda': 'ඵෝ', 'fnda': 'බෝ', 'fNda': 'භෝ', 'fuda': 'මෝ', 'fUda': 'ඹෝ', 'fhda': 'යෝ', 'frda': 'රෝ', 'f,da': 'ලෝ', 'fjda': 'වෝ', 'fYda': 'ශෝ', 'fIda': 'ෂෝ', 'fida': 'සෝ', 'fyda': 'හෝ', 'f<da': 'ළෝ', 'f¿da': 'ළුෝ', 'f*da': 'ෆෝ', 'f`.da': 'ඟෝ', 'f`Pda': 'ඦෝ', 'f`vda': 'ඬෝ', 'f`oda': 'ඳෝ', }"
     ]
    }
   ],
   "source": [
    "set_10 = generator(\"f\", \"da\", \"\", \"ෝ\")\n",
    "printer(set_10)"
   ]
  },
  {
   "cell_type": "markdown",
   "metadata": {},
   "source": [
    "Need to remove 'ළුෝ'"
   ]
  },
  {
   "cell_type": "code",
   "execution_count": 23,
   "metadata": {},
   "outputs": [],
   "source": [
    "del set_10[\"f¿da\"]\n",
    "char_set_list.append(set_10)"
   ]
  },
  {
   "cell_type": "markdown",
   "metadata": {},
   "source": [
    "Set 11 is 'ො' eg. 'ෂො'."
   ]
  },
  {
   "cell_type": "code",
   "execution_count": 24,
   "metadata": {},
   "outputs": [
    {
     "name": "stdout",
     "output_type": "stream",
     "text": [
      "{'fld': 'කො', 'fLd': 'ඛො', 'f.d': 'ගො', 'f>d': 'ඝො', 'fXd': 'ඞො', 'fÕd': 'ඟො', 'fpd': 'චො', 'fPd': 'ඡො', 'fcd': 'ජො', 'fCOd': 'ඣො', 'f®d': 'ඣො', 'f[d': 'ඤො', 'f{d': 'ඥො', 'fgd': 'ටො', 'fGd': 'ඨො', 'fvd': 'ඩො', 'fVd': 'ඪො', 'fKd': 'ණො', 'f~d': 'ඬො', 'f;d': 'තො', 'f:d': 'ථො', 'fod': 'දො', 'fOd': 'ධො', 'fkd': 'නො', 'f|d': 'ඳො', 'fmd': 'පො', 'fMd': 'ඵො', 'fnd': 'බො', 'fNd': 'භො', 'fud': 'මො', 'fUd': 'ඹො', 'fhd': 'යො', 'frd': 'රො', 'f,d': 'ලො', 'fjd': 'වො', 'fYd': 'ශො', 'fId': 'ෂො', 'fid': 'සො', 'fyd': 'හො', 'f<d': 'ළො', 'f¿d': 'ළුො', 'f*d': 'ෆො', 'f`.d': 'ඟො', 'f`Pd': 'ඦො', 'f`vd': 'ඬො', 'f`od': 'ඳො', }"
     ]
    }
   ],
   "source": [
    "set_11 = generator(\"f\", \"d\", \"\", \"ො\")\n",
    "printer(set_11)"
   ]
  },
  {
   "cell_type": "markdown",
   "metadata": {},
   "source": [
    "Need to remove 'ළුො'"
   ]
  },
  {
   "cell_type": "code",
   "execution_count": 25,
   "metadata": {},
   "outputs": [],
   "source": [
    "del set_11[\"f¿d\"]\n",
    "char_set_list.append(set_11)"
   ]
  },
  {
   "cell_type": "markdown",
   "metadata": {},
   "source": [
    "Set 12 is 'ේ' eg. 'ෂේ'. However, this is a special set since the round characters such as 'ම' and 'ට' have a different set of ASCII letters to represent the 'hal' forms. We'll be generating the 'hal' forms with 'a' for all characters to accommodate typing errors and the will add the round 'hal' characters separately."
   ]
  },
  {
   "cell_type": "code",
   "execution_count": 26,
   "metadata": {},
   "outputs": [
    {
     "name": "stdout",
     "output_type": "stream",
     "text": [
      "{'fla': 'කේ', 'fLa': 'ඛේ', 'f.a': 'ගේ', 'f>a': 'ඝේ', 'fXa': 'ඞේ', 'fÕa': 'ඟේ', 'fpa': 'චේ', 'fPa': 'ඡේ', 'fca': 'ජේ', 'fCOa': 'ඣේ', 'f®a': 'ඣේ', 'f[a': 'ඤේ', 'f{a': 'ඥේ', 'fga': 'ටේ', 'fGa': 'ඨේ', 'fva': 'ඩේ', 'fVa': 'ඪේ', 'fKa': 'ණේ', 'f~a': 'ඬේ', 'f;a': 'තේ', 'f:a': 'ථේ', 'foa': 'දේ', 'fOa': 'ධේ', 'fka': 'නේ', 'f|a': 'ඳේ', 'fma': 'පේ', 'fMa': 'ඵේ', 'fna': 'බේ', 'fNa': 'භේ', 'fua': 'මේ', 'fUa': 'ඹේ', 'fha': 'යේ', 'fra': 'රේ', 'f,a': 'ලේ', 'fja': 'වේ', 'fYa': 'ශේ', 'fIa': 'ෂේ', 'fia': 'සේ', 'fya': 'හේ', 'f<a': 'ළේ', 'f¿a': 'ළුේ', 'f*a': 'ෆේ', 'f`.a': 'ඟේ', 'f`Pa': 'ඦේ', 'f`va': 'ඬේ', 'f`oa': 'ඳේ', }"
     ]
    }
   ],
   "source": [
    "set_12 = generator(\"f\", \"a\", \"\", \"ේ\")\n",
    "printer(set_12)"
   ]
  },
  {
   "cell_type": "code",
   "execution_count": 27,
   "metadata": {},
   "outputs": [],
   "source": [
    "set_12[\"fÄ\"] = \"ඛේ\"\n",
    "set_12[\"få\"] = \"ඬේ\"\n",
    "set_12[\"fí\"] = \"බේ\"\n",
    "set_12[\"fÉ\"] = \"චේ\"\n",
    "set_12[\"fâ\"] = \"ඩේ\"\n",
    "set_12[\"fï\"] = \"මේ\"\n",
    "set_12[\"fÜ\"] = \"ටේ\"\n",
    "set_12[\"fõ\"] = \"වේ\"\n",
    "set_12[\"fè\"] = \"ධේ\"\n",
    "char_set_list.append(set_12)"
   ]
  }
 ],
 "metadata": {
  "kernelspec": {
   "display_name": "Python 3",
   "language": "python",
   "name": "python3"
  },
  "language_info": {
   "codemirror_mode": {
    "name": "ipython",
    "version": 3
   },
   "file_extension": ".py",
   "mimetype": "text/x-python",
   "name": "python",
   "nbconvert_exporter": "python",
   "pygments_lexer": "ipython3",
   "version": "3.12.7"
  }
 },
 "nbformat": 4,
 "nbformat_minor": 2
}
